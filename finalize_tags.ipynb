{
 "cells": [
  {
   "cell_type": "code",
   "execution_count": 3,
   "metadata": {},
   "outputs": [],
   "source": [
    "import os\n",
    "import ast\n",
    "import torch\n",
    "import numpy as np\n",
    "import pandas as pd\n",
    "import json\n",
    "from tqdm import tqdm"
   ]
  },
  {
   "cell_type": "code",
   "execution_count": 4,
   "metadata": {},
   "outputs": [],
   "source": [
    "tagged_df = pd.read_csv(\"./tagged_dataset/final-tags.csv\")"
   ]
  },
  {
   "cell_type": "markdown",
   "metadata": {},
   "source": [
    "##### Finalising tags"
   ]
  },
  {
   "cell_type": "code",
   "execution_count": 15,
   "metadata": {},
   "outputs": [],
   "source": [
    "def get_prompt_from_json(image_path):\n",
    "    i_uuid, ext = os.path.splitext(image_path)\n",
    "    json_file_path = i_uuid + \".json\"\n",
    "    with open(json_file_path, \"r\") as json_file:\n",
    "        metadata_info = json.load(json_file)\n",
    "        file_prompt = metadata_info[\"prompt\"]\n",
    "    return file_prompt\n"
   ]
  },
  {
   "cell_type": "code",
   "execution_count": 50,
   "metadata": {},
   "outputs": [
    {
     "name": "stderr",
     "output_type": "stream",
     "text": [
      "0it [00:00, ?it/s]"
     ]
    },
    {
     "name": "stderr",
     "output_type": "stream",
     "text": [
      "1310it [00:00, 3479.81it/s]\n"
     ]
    }
   ],
   "source": [
    "tagged_df = pd.read_csv(\"./tagged_dataset/final-tags.csv\")\n",
    "\n",
    "new_updated_df = pd.DataFrame({})\n",
    "\n",
    "for index, row in tqdm(tagged_df.iterrows()):\n",
    "    row = dict(row)\n",
    "    image_path = row[\"image_path\"]\n",
    "    tags = ast.literal_eval(row[\"tags\"])\n",
    "    prompt = get_prompt_from_json(image_path)\n",
    "    new_tags = prompt.split(\",\")\n",
    "    final_tags = new_tags + tags\n",
    "\n",
    "    new_dict = row.copy()\n",
    "    new_dict[\"tags\"] = str(tags)\n",
    "    new_dict[\"extended_tags\"] = str(final_tags)\n",
    "    df_row = pd.DataFrame(new_dict, index = [0])\n",
    "    new_updated_df = pd.concat([new_updated_df, df_row], ignore_index = True)"
   ]
  },
  {
   "cell_type": "code",
   "execution_count": 53,
   "metadata": {},
   "outputs": [],
   "source": [
    "# new_updated_df.to_csv(\"./tagged_dataset/final-tags.csv\")"
   ]
  },
  {
   "cell_type": "markdown",
   "metadata": {},
   "source": [
    "#### Adding the categories"
   ]
  },
  {
   "cell_type": "code",
   "execution_count": 33,
   "metadata": {},
   "outputs": [
    {
     "data": {
      "text/html": [
       "<div>\n",
       "<style scoped>\n",
       "    .dataframe tbody tr th:only-of-type {\n",
       "        vertical-align: middle;\n",
       "    }\n",
       "\n",
       "    .dataframe tbody tr th {\n",
       "        vertical-align: top;\n",
       "    }\n",
       "\n",
       "    .dataframe thead th {\n",
       "        text-align: right;\n",
       "    }\n",
       "</style>\n",
       "<table border=\"1\" class=\"dataframe\">\n",
       "  <thead>\n",
       "    <tr style=\"text-align: right;\">\n",
       "      <th></th>\n",
       "      <th>Unnamed: 0.2</th>\n",
       "      <th>Unnamed: 0.1</th>\n",
       "      <th>Unnamed: 0</th>\n",
       "      <th>image_name</th>\n",
       "      <th>image_path</th>\n",
       "      <th>tags</th>\n",
       "      <th>extended_tags</th>\n",
       "    </tr>\n",
       "  </thead>\n",
       "  <tbody>\n",
       "    <tr>\n",
       "      <th>1305</th>\n",
       "      <td>1305</td>\n",
       "      <td>1305</td>\n",
       "      <td>1305</td>\n",
       "      <td>5fd2e5ae-6603-4d3b-bf69-9f653bbe63e3.png</td>\n",
       "      <td>/media/pixis/pixis/Ravi_workspace/Entity-taggi...</td>\n",
       "      <td>['boulder', 'pebble', 'stone']</td>\n",
       "      <td>['kept on flat paper wall', ' top view', ' foc...</td>\n",
       "    </tr>\n",
       "    <tr>\n",
       "      <th>1306</th>\n",
       "      <td>1306</td>\n",
       "      <td>1306</td>\n",
       "      <td>1306</td>\n",
       "      <td>38ed39f9-178b-4265-bcb8-136154be98ba.png</td>\n",
       "      <td>/media/pixis/pixis/Ravi_workspace/Entity-taggi...</td>\n",
       "      <td>['black', 'heart', 'pebble', 'stone', 'shape',...</td>\n",
       "      <td>['kept on sage floor', ' focus on product', ' ...</td>\n",
       "    </tr>\n",
       "    <tr>\n",
       "      <th>1307</th>\n",
       "      <td>1307</td>\n",
       "      <td>1307</td>\n",
       "      <td>1307</td>\n",
       "      <td>88e04bed-9b57-4afb-bae1-dda030f127e7.png</td>\n",
       "      <td>/media/pixis/pixis/Ravi_workspace/Entity-taggi...</td>\n",
       "      <td>['black', 'dahlia', 'flower', 'lay', 'petal', ...</td>\n",
       "      <td>['Top view of lilac paper floor', ' stones', '...</td>\n",
       "    </tr>\n",
       "    <tr>\n",
       "      <th>1308</th>\n",
       "      <td>1308</td>\n",
       "      <td>1308</td>\n",
       "      <td>1308</td>\n",
       "      <td>280678d5-383f-450e-856e-08e2c11288e7.png</td>\n",
       "      <td>/media/pixis/pixis/Ravi_workspace/Entity-taggi...</td>\n",
       "      <td>['circle', 'cotton candy', 'cube', 'green', 'h...</td>\n",
       "      <td>['top view of stone', ' focus on product', ' m...</td>\n",
       "    </tr>\n",
       "    <tr>\n",
       "      <th>1309</th>\n",
       "      <td>1309</td>\n",
       "      <td>1309</td>\n",
       "      <td>1309</td>\n",
       "      <td>891a97af-592f-4837-bd62-693793401ff7.png</td>\n",
       "      <td>/media/pixis/pixis/Ravi_workspace/Entity-taggi...</td>\n",
       "      <td>['crack', 'marble', 'stone', 'white']</td>\n",
       "      <td>['kept on old shabby', ' corrosion', ' cracked...</td>\n",
       "    </tr>\n",
       "  </tbody>\n",
       "</table>\n",
       "</div>"
      ],
      "text/plain": [
       "      Unnamed: 0.2  Unnamed: 0.1  Unnamed: 0  \\\n",
       "1305          1305          1305        1305   \n",
       "1306          1306          1306        1306   \n",
       "1307          1307          1307        1307   \n",
       "1308          1308          1308        1308   \n",
       "1309          1309          1309        1309   \n",
       "\n",
       "                                    image_name  \\\n",
       "1305  5fd2e5ae-6603-4d3b-bf69-9f653bbe63e3.png   \n",
       "1306  38ed39f9-178b-4265-bcb8-136154be98ba.png   \n",
       "1307  88e04bed-9b57-4afb-bae1-dda030f127e7.png   \n",
       "1308  280678d5-383f-450e-856e-08e2c11288e7.png   \n",
       "1309  891a97af-592f-4837-bd62-693793401ff7.png   \n",
       "\n",
       "                                             image_path  \\\n",
       "1305  /media/pixis/pixis/Ravi_workspace/Entity-taggi...   \n",
       "1306  /media/pixis/pixis/Ravi_workspace/Entity-taggi...   \n",
       "1307  /media/pixis/pixis/Ravi_workspace/Entity-taggi...   \n",
       "1308  /media/pixis/pixis/Ravi_workspace/Entity-taggi...   \n",
       "1309  /media/pixis/pixis/Ravi_workspace/Entity-taggi...   \n",
       "\n",
       "                                                   tags  \\\n",
       "1305                     ['boulder', 'pebble', 'stone']   \n",
       "1306  ['black', 'heart', 'pebble', 'stone', 'shape',...   \n",
       "1307  ['black', 'dahlia', 'flower', 'lay', 'petal', ...   \n",
       "1308  ['circle', 'cotton candy', 'cube', 'green', 'h...   \n",
       "1309              ['crack', 'marble', 'stone', 'white']   \n",
       "\n",
       "                                          extended_tags  \n",
       "1305  ['kept on flat paper wall', ' top view', ' foc...  \n",
       "1306  ['kept on sage floor', ' focus on product', ' ...  \n",
       "1307  ['Top view of lilac paper floor', ' stones', '...  \n",
       "1308  ['top view of stone', ' focus on product', ' m...  \n",
       "1309  ['kept on old shabby', ' corrosion', ' cracked...  "
      ]
     },
     "execution_count": 33,
     "metadata": {},
     "output_type": "execute_result"
    }
   ],
   "source": [
    "tagged_df = pd.read_csv(\"./tagged_dataset/final-tags.csv\")\n",
    "tagged_df.tail()"
   ]
  },
  {
   "cell_type": "code",
   "execution_count": 34,
   "metadata": {},
   "outputs": [],
   "source": [
    "def get_categories(image_path):\n",
    "    category = image_path.split(\"/\")[-3]\n",
    "    return category\n",
    "\n",
    "tagged_df[\"background_category\"] = tagged_df[\"image_path\"].apply(get_categories)"
   ]
  },
  {
   "cell_type": "code",
   "execution_count": 35,
   "metadata": {},
   "outputs": [
    {
     "data": {
      "text/html": [
       "<div>\n",
       "<style scoped>\n",
       "    .dataframe tbody tr th:only-of-type {\n",
       "        vertical-align: middle;\n",
       "    }\n",
       "\n",
       "    .dataframe tbody tr th {\n",
       "        vertical-align: top;\n",
       "    }\n",
       "\n",
       "    .dataframe thead th {\n",
       "        text-align: right;\n",
       "    }\n",
       "</style>\n",
       "<table border=\"1\" class=\"dataframe\">\n",
       "  <thead>\n",
       "    <tr style=\"text-align: right;\">\n",
       "      <th></th>\n",
       "      <th>image_name</th>\n",
       "      <th>image_path</th>\n",
       "      <th>tags</th>\n",
       "      <th>extended_tags</th>\n",
       "      <th>background_category</th>\n",
       "    </tr>\n",
       "  </thead>\n",
       "  <tbody>\n",
       "    <tr>\n",
       "      <th>1305</th>\n",
       "      <td>5fd2e5ae-6603-4d3b-bf69-9f653bbe63e3.png</td>\n",
       "      <td>/media/pixis/pixis/Ravi_workspace/Entity-taggi...</td>\n",
       "      <td>['boulder', 'pebble', 'stone']</td>\n",
       "      <td>['kept on flat paper wall', ' top view', ' foc...</td>\n",
       "      <td>MINIMALISTIC</td>\n",
       "    </tr>\n",
       "    <tr>\n",
       "      <th>1306</th>\n",
       "      <td>38ed39f9-178b-4265-bcb8-136154be98ba.png</td>\n",
       "      <td>/media/pixis/pixis/Ravi_workspace/Entity-taggi...</td>\n",
       "      <td>['black', 'heart', 'pebble', 'stone', 'shape',...</td>\n",
       "      <td>['kept on sage floor', ' focus on product', ' ...</td>\n",
       "      <td>MINIMALISTIC</td>\n",
       "    </tr>\n",
       "    <tr>\n",
       "      <th>1307</th>\n",
       "      <td>88e04bed-9b57-4afb-bae1-dda030f127e7.png</td>\n",
       "      <td>/media/pixis/pixis/Ravi_workspace/Entity-taggi...</td>\n",
       "      <td>['black', 'dahlia', 'flower', 'lay', 'petal', ...</td>\n",
       "      <td>['Top view of lilac paper floor', ' stones', '...</td>\n",
       "      <td>MINIMALISTIC</td>\n",
       "    </tr>\n",
       "    <tr>\n",
       "      <th>1308</th>\n",
       "      <td>280678d5-383f-450e-856e-08e2c11288e7.png</td>\n",
       "      <td>/media/pixis/pixis/Ravi_workspace/Entity-taggi...</td>\n",
       "      <td>['circle', 'cotton candy', 'cube', 'green', 'h...</td>\n",
       "      <td>['top view of stone', ' focus on product', ' m...</td>\n",
       "      <td>MINIMALISTIC</td>\n",
       "    </tr>\n",
       "    <tr>\n",
       "      <th>1309</th>\n",
       "      <td>891a97af-592f-4837-bd62-693793401ff7.png</td>\n",
       "      <td>/media/pixis/pixis/Ravi_workspace/Entity-taggi...</td>\n",
       "      <td>['crack', 'marble', 'stone', 'white']</td>\n",
       "      <td>['kept on old shabby', ' corrosion', ' cracked...</td>\n",
       "      <td>MINIMALISTIC</td>\n",
       "    </tr>\n",
       "  </tbody>\n",
       "</table>\n",
       "</div>"
      ],
      "text/plain": [
       "                                    image_name  \\\n",
       "1305  5fd2e5ae-6603-4d3b-bf69-9f653bbe63e3.png   \n",
       "1306  38ed39f9-178b-4265-bcb8-136154be98ba.png   \n",
       "1307  88e04bed-9b57-4afb-bae1-dda030f127e7.png   \n",
       "1308  280678d5-383f-450e-856e-08e2c11288e7.png   \n",
       "1309  891a97af-592f-4837-bd62-693793401ff7.png   \n",
       "\n",
       "                                             image_path  \\\n",
       "1305  /media/pixis/pixis/Ravi_workspace/Entity-taggi...   \n",
       "1306  /media/pixis/pixis/Ravi_workspace/Entity-taggi...   \n",
       "1307  /media/pixis/pixis/Ravi_workspace/Entity-taggi...   \n",
       "1308  /media/pixis/pixis/Ravi_workspace/Entity-taggi...   \n",
       "1309  /media/pixis/pixis/Ravi_workspace/Entity-taggi...   \n",
       "\n",
       "                                                   tags  \\\n",
       "1305                     ['boulder', 'pebble', 'stone']   \n",
       "1306  ['black', 'heart', 'pebble', 'stone', 'shape',...   \n",
       "1307  ['black', 'dahlia', 'flower', 'lay', 'petal', ...   \n",
       "1308  ['circle', 'cotton candy', 'cube', 'green', 'h...   \n",
       "1309              ['crack', 'marble', 'stone', 'white']   \n",
       "\n",
       "                                          extended_tags background_category  \n",
       "1305  ['kept on flat paper wall', ' top view', ' foc...        MINIMALISTIC  \n",
       "1306  ['kept on sage floor', ' focus on product', ' ...        MINIMALISTIC  \n",
       "1307  ['Top view of lilac paper floor', ' stones', '...        MINIMALISTIC  \n",
       "1308  ['top view of stone', ' focus on product', ' m...        MINIMALISTIC  \n",
       "1309  ['kept on old shabby', ' corrosion', ' cracked...        MINIMALISTIC  "
      ]
     },
     "execution_count": 35,
     "metadata": {},
     "output_type": "execute_result"
    }
   ],
   "source": [
    "tagged_df = tagged_df.loc[:, ~tagged_df.columns.str.contains('^Unnamed')]\n",
    "tagged_df.tail()"
   ]
  },
  {
   "cell_type": "code",
   "execution_count": 40,
   "metadata": {},
   "outputs": [
    {
     "name": "stderr",
     "output_type": "stream",
     "text": [
      "1310it [00:00, 3573.45it/s]\n"
     ]
    }
   ],
   "source": [
    "new_updated_df = pd.DataFrame({})\n",
    "\n",
    "for index, row in tqdm(tagged_df.iterrows()):\n",
    "    new_dict = {}\n",
    "    row = dict(row)\n",
    "    ext_tags = ast.literal_eval(row[\"extended_tags\"])\n",
    "    category = row[\"background_category\"]\n",
    "    if category.lower() not in [\"uploaded\", \"generated\", \"podium\"]:\n",
    "        ext_tags.insert(0, category.lower() + \" background\")\n",
    "\n",
    "    tags = ast.literal_eval(row[\"tags\"])\n",
    "    image_name = row[\"image_name\"]\n",
    "    image_path = row[\"image_path\"]\n",
    "\n",
    "    new_dict = {\n",
    "        \"image_name\":image_name,\n",
    "        \"image_path\":image_path,\n",
    "        \"tags\":tags,\n",
    "        \"extended_tags\":ext_tags,\n",
    "        \"background_category\":category\n",
    "    }\n",
    "\n",
    "    new_row = pd.DataFrame([new_dict])\n",
    "\n",
    "    new_updated_df = pd.concat([new_updated_df, new_row], ignore_index=True)"
   ]
  },
  {
   "cell_type": "code",
   "execution_count": 42,
   "metadata": {},
   "outputs": [
    {
     "data": {
      "text/html": [
       "<div>\n",
       "<style scoped>\n",
       "    .dataframe tbody tr th:only-of-type {\n",
       "        vertical-align: middle;\n",
       "    }\n",
       "\n",
       "    .dataframe tbody tr th {\n",
       "        vertical-align: top;\n",
       "    }\n",
       "\n",
       "    .dataframe thead th {\n",
       "        text-align: right;\n",
       "    }\n",
       "</style>\n",
       "<table border=\"1\" class=\"dataframe\">\n",
       "  <thead>\n",
       "    <tr style=\"text-align: right;\">\n",
       "      <th></th>\n",
       "      <th>image_name</th>\n",
       "      <th>image_path</th>\n",
       "      <th>tags</th>\n",
       "      <th>extended_tags</th>\n",
       "      <th>background_category</th>\n",
       "    </tr>\n",
       "  </thead>\n",
       "  <tbody>\n",
       "    <tr>\n",
       "      <th>1305</th>\n",
       "      <td>5fd2e5ae-6603-4d3b-bf69-9f653bbe63e3.png</td>\n",
       "      <td>/media/pixis/pixis/Ravi_workspace/Entity-taggi...</td>\n",
       "      <td>[boulder, pebble, stone]</td>\n",
       "      <td>[minimalistic background, kept on flat paper w...</td>\n",
       "      <td>MINIMALISTIC</td>\n",
       "    </tr>\n",
       "    <tr>\n",
       "      <th>1306</th>\n",
       "      <td>38ed39f9-178b-4265-bcb8-136154be98ba.png</td>\n",
       "      <td>/media/pixis/pixis/Ravi_workspace/Entity-taggi...</td>\n",
       "      <td>[black, heart, pebble, stone, shape, white]</td>\n",
       "      <td>[minimalistic background, kept on sage floor, ...</td>\n",
       "      <td>MINIMALISTIC</td>\n",
       "    </tr>\n",
       "    <tr>\n",
       "      <th>1307</th>\n",
       "      <td>88e04bed-9b57-4afb-bae1-dda030f127e7.png</td>\n",
       "      <td>/media/pixis/pixis/Ravi_workspace/Entity-taggi...</td>\n",
       "      <td>[black, dahlia, flower, lay, petal, pink, ston...</td>\n",
       "      <td>[minimalistic background, Top view of lilac pa...</td>\n",
       "      <td>MINIMALISTIC</td>\n",
       "    </tr>\n",
       "    <tr>\n",
       "      <th>1308</th>\n",
       "      <td>280678d5-383f-450e-856e-08e2c11288e7.png</td>\n",
       "      <td>/media/pixis/pixis/Ravi_workspace/Entity-taggi...</td>\n",
       "      <td>[circle, cotton candy, cube, green, heart, hea...</td>\n",
       "      <td>[minimalistic background, top view of stone,  ...</td>\n",
       "      <td>MINIMALISTIC</td>\n",
       "    </tr>\n",
       "    <tr>\n",
       "      <th>1309</th>\n",
       "      <td>891a97af-592f-4837-bd62-693793401ff7.png</td>\n",
       "      <td>/media/pixis/pixis/Ravi_workspace/Entity-taggi...</td>\n",
       "      <td>[crack, marble, stone, white]</td>\n",
       "      <td>[minimalistic background, kept on old shabby, ...</td>\n",
       "      <td>MINIMALISTIC</td>\n",
       "    </tr>\n",
       "  </tbody>\n",
       "</table>\n",
       "</div>"
      ],
      "text/plain": [
       "                                    image_name  \\\n",
       "1305  5fd2e5ae-6603-4d3b-bf69-9f653bbe63e3.png   \n",
       "1306  38ed39f9-178b-4265-bcb8-136154be98ba.png   \n",
       "1307  88e04bed-9b57-4afb-bae1-dda030f127e7.png   \n",
       "1308  280678d5-383f-450e-856e-08e2c11288e7.png   \n",
       "1309  891a97af-592f-4837-bd62-693793401ff7.png   \n",
       "\n",
       "                                             image_path  \\\n",
       "1305  /media/pixis/pixis/Ravi_workspace/Entity-taggi...   \n",
       "1306  /media/pixis/pixis/Ravi_workspace/Entity-taggi...   \n",
       "1307  /media/pixis/pixis/Ravi_workspace/Entity-taggi...   \n",
       "1308  /media/pixis/pixis/Ravi_workspace/Entity-taggi...   \n",
       "1309  /media/pixis/pixis/Ravi_workspace/Entity-taggi...   \n",
       "\n",
       "                                                   tags  \\\n",
       "1305                           [boulder, pebble, stone]   \n",
       "1306        [black, heart, pebble, stone, shape, white]   \n",
       "1307  [black, dahlia, flower, lay, petal, pink, ston...   \n",
       "1308  [circle, cotton candy, cube, green, heart, hea...   \n",
       "1309                      [crack, marble, stone, white]   \n",
       "\n",
       "                                          extended_tags background_category  \n",
       "1305  [minimalistic background, kept on flat paper w...        MINIMALISTIC  \n",
       "1306  [minimalistic background, kept on sage floor, ...        MINIMALISTIC  \n",
       "1307  [minimalistic background, Top view of lilac pa...        MINIMALISTIC  \n",
       "1308  [minimalistic background, top view of stone,  ...        MINIMALISTIC  \n",
       "1309  [minimalistic background, kept on old shabby, ...        MINIMALISTIC  "
      ]
     },
     "execution_count": 42,
     "metadata": {},
     "output_type": "execute_result"
    }
   ],
   "source": [
    "new_updated_df.tail()\n"
   ]
  },
  {
   "cell_type": "code",
   "execution_count": 43,
   "metadata": {},
   "outputs": [],
   "source": [
    "# new_updated_df.to_csv(\"./tagged_dataset/final-tags.csv\")"
   ]
  },
  {
   "cell_type": "code",
   "execution_count": null,
   "metadata": {},
   "outputs": [],
   "source": []
  }
 ],
 "metadata": {
  "kernelspec": {
   "display_name": "any",
   "language": "python",
   "name": "python3"
  },
  "language_info": {
   "codemirror_mode": {
    "name": "ipython",
    "version": 3
   },
   "file_extension": ".py",
   "mimetype": "text/x-python",
   "name": "python",
   "nbconvert_exporter": "python",
   "pygments_lexer": "ipython3",
   "version": "3.10.14"
  }
 },
 "nbformat": 4,
 "nbformat_minor": 2
}
